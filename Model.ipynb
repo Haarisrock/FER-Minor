{
 "cells": [
  {
   "cell_type": "code",
   "execution_count": 9,
   "metadata": {},
   "outputs": [],
   "source": [
    "import keras\n",
    "from keras.models import Sequential\n",
    "from keras.layers import Dense,Flatten,Conv2D,MaxPooling2D,Activation\n",
    "#from keras."
   ]
  },
  {
   "cell_type": "code",
   "execution_count": 10,
   "metadata": {},
   "outputs": [
    {
     "name": "stdout",
     "output_type": "stream",
     "text": [
      "(35887, 48, 48)\n"
     ]
    }
   ],
   "source": [
    "import numpy as np\n",
    "X = np.load(\"X.npy\")\n",
    "y =np.load(\"y.npy\")\n",
    "print(X.shape)"
   ]
  },
  {
   "cell_type": "code",
   "execution_count": 11,
   "metadata": {},
   "outputs": [],
   "source": [
    "X = X/255.0\n",
    "X = X.reshape(-1,48,48,1)\n",
    "y = keras.utils.to_categorical(y)"
   ]
  },
  {
   "cell_type": "code",
   "execution_count": 12,
   "metadata": {},
   "outputs": [],
   "source": [
    "model = Sequential()\n",
    "\n",
    "model.add(Conv2D(32,(3,3), input_shape=X.shape[1:]))\n",
    "model.add(Activation('relu'))\n",
    "\n",
    "model.add(Conv2D(64,(3,3)))\n",
    "model.add(Activation('relu'))\n",
    "\n",
    "model.add(Flatten())\n",
    "model.add(Dense(32))\n",
    "model.add(Activation('relu'))\n",
    "\n",
    "model.add(Dense(7))\n",
    "model.add(Activation('softmax'))\n",
    "\n",
    "model.compile(loss='categorical_crossentropy',\n",
    "              optimizer='adam',\n",
    "             metrics=['accuracy'])"
   ]
  },
  {
   "cell_type": "code",
   "execution_count": 13,
   "metadata": {
    "scrolled": true
   },
   "outputs": [
    {
     "name": "stdout",
     "output_type": "stream",
     "text": [
      "Model: \"sequential_2\"\n",
      "_________________________________________________________________\n",
      "Layer (type)                 Output Shape              Param #   \n",
      "=================================================================\n",
      "conv2d_3 (Conv2D)            (None, 46, 46, 32)        320       \n",
      "_________________________________________________________________\n",
      "activation_5 (Activation)    (None, 46, 46, 32)        0         \n",
      "_________________________________________________________________\n",
      "conv2d_4 (Conv2D)            (None, 44, 44, 64)        18496     \n",
      "_________________________________________________________________\n",
      "activation_6 (Activation)    (None, 44, 44, 64)        0         \n",
      "_________________________________________________________________\n",
      "flatten_2 (Flatten)          (None, 123904)            0         \n",
      "_________________________________________________________________\n",
      "dense_3 (Dense)              (None, 32)                3964960   \n",
      "_________________________________________________________________\n",
      "activation_7 (Activation)    (None, 32)                0         \n",
      "_________________________________________________________________\n",
      "dense_4 (Dense)              (None, 7)                 231       \n",
      "_________________________________________________________________\n",
      "activation_8 (Activation)    (None, 7)                 0         \n",
      "=================================================================\n",
      "Total params: 3,984,007\n",
      "Trainable params: 3,984,007\n",
      "Non-trainable params: 0\n",
      "_________________________________________________________________\n"
     ]
    }
   ],
   "source": [
    "model.summary()"
   ]
  },
  {
   "cell_type": "code",
   "execution_count": null,
   "metadata": {
    "scrolled": true
   },
   "outputs": [
    {
     "name": "stdout",
     "output_type": "stream",
     "text": [
      "Train on 32298 samples, validate on 3589 samples\n",
      "Epoch 1/50\n",
      "32298/32298 [==============================] - 458s 14ms/step - loss: 1.5812 - acc: 0.3819 - val_loss: 1.4305 - val_acc: 0.4533\n",
      "Epoch 2/50\n",
      "32298/32298 [==============================] - 437s 14ms/step - loss: 1.3185 - acc: 0.5033 - val_loss: 1.3907 - val_acc: 0.4611\n",
      "Epoch 3/50\n",
      "32298/32298 [==============================] - 413s 13ms/step - loss: 1.1200 - acc: 0.5831 - val_loss: 1.3432 - val_acc: 0.4915\n",
      "Epoch 4/50\n",
      "32298/32298 [==============================] - 400s 12ms/step - loss: 0.8844 - acc: 0.6789 - val_loss: 1.4971 - val_acc: 0.4765\n",
      "Epoch 5/50\n",
      "32298/32298 [==============================] - 402s 12ms/step - loss: 0.6289 - acc: 0.7772 - val_loss: 1.6315 - val_acc: 0.5013\n",
      "Epoch 6/50\n",
      "32298/32298 [==============================] - 403s 12ms/step - loss: 0.3996 - acc: 0.8662 - val_loss: 2.0257 - val_acc: 0.4868\n",
      "Epoch 7/50\n",
      "32298/32298 [==============================] - 418s 13ms/step - loss: 0.2416 - acc: 0.9246 - val_loss: 2.6011 - val_acc: 0.4848\n",
      "Epoch 8/50\n",
      "32298/32298 [==============================] - 417s 13ms/step - loss: 0.1673 - acc: 0.9510 - val_loss: 2.9359 - val_acc: 0.4809\n",
      "Epoch 9/50\n",
      "32298/32298 [==============================] - 423s 13ms/step - loss: 0.1220 - acc: 0.9654 - val_loss: 3.2749 - val_acc: 0.4770\n",
      "Epoch 10/50\n",
      "32298/32298 [==============================] - 494s 15ms/step - loss: 0.1086 - acc: 0.9683 - val_loss: 3.4853 - val_acc: 0.4765\n",
      "Epoch 11/50\n",
      "32298/32298 [==============================] - 479s 15ms/step - loss: 0.0961 - acc: 0.9733 - val_loss: 3.5202 - val_acc: 0.4817\n",
      "Epoch 12/50\n",
      "32298/32298 [==============================] - 495s 15ms/step - loss: 0.0795 - acc: 0.9799 - val_loss: 3.8328 - val_acc: 0.4787\n",
      "Epoch 13/50\n",
      "32298/32298 [==============================] - 567s 18ms/step - loss: 0.0848 - acc: 0.9773 - val_loss: 3.8790 - val_acc: 0.4720\n",
      "Epoch 14/50\n",
      "32298/32298 [==============================] - 459s 14ms/step - loss: 0.0778 - acc: 0.9787 - val_loss: 3.8113 - val_acc: 0.4745\n",
      "Epoch 15/50\n",
      "32298/32298 [==============================] - 447s 14ms/step - loss: 0.0674 - acc: 0.9822 - val_loss: 3.8979 - val_acc: 0.4720\n",
      "Epoch 16/50\n",
      "32298/32298 [==============================] - 412s 13ms/step - loss: 0.0628 - acc: 0.9835 - val_loss: 4.0522 - val_acc: 0.4787\n",
      "Epoch 17/50\n",
      "32298/32298 [==============================] - 469s 15ms/step - loss: 0.0580 - acc: 0.9853 - val_loss: 4.3949 - val_acc: 0.4700\n",
      "Epoch 18/50\n",
      "32298/32298 [==============================] - 481s 15ms/step - loss: 0.0620 - acc: 0.9841 - val_loss: 4.4512 - val_acc: 0.4801\n",
      "Epoch 19/50\n",
      "32298/32298 [==============================] - 472s 15ms/step - loss: 0.0702 - acc: 0.9818 - val_loss: 4.3510 - val_acc: 0.4765\n",
      "Epoch 20/50\n",
      "32298/32298 [==============================] - 419s 13ms/step - loss: 0.0568 - acc: 0.9859 - val_loss: 4.3860 - val_acc: 0.4901\n",
      "Epoch 21/50\n",
      "32298/32298 [==============================] - 1548s 48ms/step - loss: 0.0477 - acc: 0.9885 - val_loss: 4.4270 - val_acc: 0.4862\n",
      "Epoch 22/50\n",
      "32298/32298 [==============================] - 394s 12ms/step - loss: 0.0528 - acc: 0.9878 - val_loss: 4.5220 - val_acc: 0.4823\n",
      "Epoch 23/50\n",
      "32298/32298 [==============================] - 387s 12ms/step - loss: 0.0507 - acc: 0.9872 - val_loss: 4.7399 - val_acc: 0.4728\n",
      "Epoch 24/50\n",
      "32298/32298 [==============================] - 386s 12ms/step - loss: 0.0559 - acc: 0.9853 - val_loss: 4.4984 - val_acc: 0.4742\n",
      "Epoch 25/50\n",
      "32298/32298 [==============================] - 391s 12ms/step - loss: 0.0475 - acc: 0.9880 - val_loss: 4.6796 - val_acc: 0.4684\n",
      "Epoch 26/50\n",
      "28192/32298 [=========================>....] - ETA: 4:10 - loss: 0.0398 - acc: 0.9900"
     ]
    }
   ],
   "source": [
    "model.fit(X,y, epochs= 50, validation_split=0.1)"
   ]
  },
  {
   "cell_type": "code",
   "execution_count": 7,
   "metadata": {},
   "outputs": [],
   "source": [
    "pred = model.predict(X)"
   ]
  },
  {
   "cell_type": "code",
   "execution_count": 8,
   "metadata": {},
   "outputs": [
    {
     "data": {
      "text/plain": [
       "array([0.10306033, 0.00501303, 0.16851184, 0.01421803, 0.2636209 ,\n",
       "       0.02196659, 0.42360932], dtype=float32)"
      ]
     },
     "execution_count": 8,
     "metadata": {},
     "output_type": "execute_result"
    }
   ],
   "source": [
    "pred[5]"
   ]
  },
  {
   "cell_type": "code",
   "execution_count": 9,
   "metadata": {},
   "outputs": [],
   "source": [
    "p = np.argmax(pred[0])"
   ]
  },
  {
   "cell_type": "code",
   "execution_count": 10,
   "metadata": {},
   "outputs": [],
   "source": [
    "emotion=[\"angry\",\"disgust\",\"fear\",\"happy\",\"sad\",\"surprised\",\"neutral\"]"
   ]
  },
  {
   "cell_type": "code",
   "execution_count": 11,
   "metadata": {},
   "outputs": [
    {
     "data": {
      "text/plain": [
       "'angry'"
      ]
     },
     "execution_count": 11,
     "metadata": {},
     "output_type": "execute_result"
    }
   ],
   "source": [
    "emotion[p]"
   ]
  },
  {
   "cell_type": "code",
   "execution_count": null,
   "metadata": {},
   "outputs": [],
   "source": []
  }
 ],
 "metadata": {
  "kernelspec": {
   "display_name": "Python 3",
   "language": "python",
   "name": "python3"
  },
  "language_info": {
   "codemirror_mode": {
    "name": "ipython",
    "version": 3
   },
   "file_extension": ".py",
   "mimetype": "text/x-python",
   "name": "python",
   "nbconvert_exporter": "python",
   "pygments_lexer": "ipython3",
   "version": "3.6.8"
  }
 },
 "nbformat": 4,
 "nbformat_minor": 2
}
