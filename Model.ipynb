{
 "cells": [
  {
   "cell_type": "code",
   "execution_count": 9,
   "metadata": {},
   "outputs": [],
   "source": [
    "import keras\n",
    "from keras.models import Sequential\n",
    "from keras.layers import Dense,Flatten,Conv2D,MaxPooling2D,Activation\n",
    "#from keras."
   ]
  },
  {
   "cell_type": "code",
   "execution_count": 10,
   "metadata": {},
   "outputs": [
    {
     "name": "stdout",
     "output_type": "stream",
     "text": [
      "(35887, 48, 48)\n"
     ]
    }
   ],
   "source": [
    "import numpy as np\n",
    "X = np.load(\"X.npy\")\n",
    "y =np.load(\"y.npy\")\n",
    "print(X.shape)"
   ]
  },
  {
   "cell_type": "code",
   "execution_count": 11,
   "metadata": {},
   "outputs": [],
   "source": [
    "X = X/255.0\n",
    "X = X.reshape(-1,48,48,1)\n",
    "y = keras.utils.to_categorical(y)"
   ]
  },
  {
   "cell_type": "code",
   "execution_count": 12,
   "metadata": {},
   "outputs": [],
   "source": [
    "model = Sequential()\n",
    "\n",
    "model.add(Conv2D(32,(3,3), input_shape=X.shape[1:]))\n",
    "model.add(Activation('relu'))\n",
    "\n",
    "model.add(Conv2D(64,(3,3)))\n",
    "model.add(Activation('relu'))\n",
    "\n",
    "model.add(Flatten())\n",
    "model.add(Dense(32))\n",
    "model.add(Activation('relu'))\n",
    "\n",
    "model.add(Dense(7))\n",
    "model.add(Activation('softmax'))\n",
    "\n",
    "model.compile(loss='categorical_crossentropy',\n",
    "              optimizer='adam',\n",
    "             metrics=['accuracy'])"
   ]
  },
  {
   "cell_type": "code",
   "execution_count": 6,
   "metadata": {},
   "outputs": [
    {
     "name": "stdout",
     "output_type": "stream",
     "text": [
      "Model: \"sequential_1\"\n",
      "_________________________________________________________________\n",
      "Layer (type)                 Output Shape              Param #   \n",
      "=================================================================\n",
      "conv2d_1 (Conv2D)            (None, 46, 46, 32)        320       \n",
      "_________________________________________________________________\n",
      "activation_1 (Activation)    (None, 46, 46, 32)        0         \n",
      "_________________________________________________________________\n",
      "conv2d_2 (Conv2D)            (None, 44, 44, 64)        18496     \n",
      "_________________________________________________________________\n",
      "activation_2 (Activation)    (None, 44, 44, 64)        0         \n",
      "_________________________________________________________________\n",
      "flatten_1 (Flatten)          (None, 123904)            0         \n",
      "_________________________________________________________________\n",
      "dense_1 (Dense)              (None, 32)                3964960   \n",
      "_________________________________________________________________\n",
      "activation_3 (Activation)    (None, 32)                0         \n",
      "_________________________________________________________________\n",
      "dense_2 (Dense)              (None, 7)                 231       \n",
      "_________________________________________________________________\n",
      "activation_4 (Activation)    (None, 7)                 0         \n",
      "=================================================================\n",
      "Total params: 3,984,007\n",
      "Trainable params: 3,984,007\n",
      "Non-trainable params: 0\n",
      "_________________________________________________________________\n"
     ]
    }
   ],
   "source": [
    "model.summary()"
   ]
  },
  {
   "cell_type": "code",
   "execution_count": 8,
   "metadata": {},
   "outputs": [
    {
     "name": "stdout",
     "output_type": "stream",
     "text": [
      "Train on 32298 samples, validate on 3589 samples\n",
      "Epoch 1/10\n",
      "32298/32298 [==============================] - 295s 9ms/step - loss: 1.1107 - acc: 0.5855 - val_loss: 1.3578 - val_acc: 0.5074\n",
      "Epoch 2/10\n",
      "32298/32298 [==============================] - 306s 9ms/step - loss: 0.9100 - acc: 0.6621 - val_loss: 1.4334 - val_acc: 0.4907\n",
      "Epoch 3/10\n",
      "32298/32298 [==============================] - 313s 10ms/step - loss: 0.6828 - acc: 0.7520 - val_loss: 1.6257 - val_acc: 0.5001\n",
      "Epoch 4/10\n",
      "32298/32298 [==============================] - 3006s 93ms/step - loss: 0.4830 - acc: 0.8301 - val_loss: 1.9796 - val_acc: 0.5015\n",
      "Epoch 5/10\n",
      "32298/32298 [==============================] - 336s 10ms/step - loss: 0.3220 - acc: 0.8901 - val_loss: 2.4707 - val_acc: 0.4876\n",
      "Epoch 6/10\n",
      "32298/32298 [==============================] - 346s 11ms/step - loss: 0.2278 - acc: 0.9288 - val_loss: 2.9095 - val_acc: 0.4862\n",
      "Epoch 7/10\n",
      "32298/32298 [==============================] - 300s 9ms/step - loss: 0.1620 - acc: 0.9524 - val_loss: 3.3020 - val_acc: 0.4862\n",
      "Epoch 8/10\n",
      "32298/32298 [==============================] - 320s 10ms/step - loss: 0.1401 - acc: 0.9601 - val_loss: 3.5176 - val_acc: 0.4848\n",
      "Epoch 9/10\n",
      "32298/32298 [==============================] - 306s 9ms/step - loss: 0.1171 - acc: 0.9678 - val_loss: 3.6908 - val_acc: 0.4854\n",
      "Epoch 10/10\n",
      "32298/32298 [==============================] - 330s 10ms/step - loss: 0.0929 - acc: 0.9752 - val_loss: 3.8210 - val_acc: 0.4675\n"
     ]
    },
    {
     "data": {
      "text/plain": [
       "<keras.callbacks.History at 0x13e263ef668>"
      ]
     },
     "execution_count": 8,
     "metadata": {},
     "output_type": "execute_result"
    }
   ],
   "source": [
    "model.fit(X,y, epochs=10, validation_split=0.1)"
   ]
  },
  {
   "cell_type": "code",
   "execution_count": 7,
   "metadata": {},
   "outputs": [],
   "source": [
    "pred = model.predict(X)"
   ]
  },
  {
   "cell_type": "code",
   "execution_count": 8,
   "metadata": {},
   "outputs": [
    {
     "data": {
      "text/plain": [
       "array([0.10306033, 0.00501303, 0.16851184, 0.01421803, 0.2636209 ,\n",
       "       0.02196659, 0.42360932], dtype=float32)"
      ]
     },
     "execution_count": 8,
     "metadata": {},
     "output_type": "execute_result"
    }
   ],
   "source": [
    "pred[5]"
   ]
  },
  {
   "cell_type": "code",
   "execution_count": 9,
   "metadata": {},
   "outputs": [],
   "source": [
    "p = np.argmax(pred[0])"
   ]
  },
  {
   "cell_type": "code",
   "execution_count": 10,
   "metadata": {},
   "outputs": [],
   "source": [
    "emotion=[\"angry\",\"disgust\",\"fear\",\"happy\",\"sad\",\"surprised\",\"neutral\"]"
   ]
  },
  {
   "cell_type": "code",
   "execution_count": 11,
   "metadata": {},
   "outputs": [
    {
     "data": {
      "text/plain": [
       "'angry'"
      ]
     },
     "execution_count": 11,
     "metadata": {},
     "output_type": "execute_result"
    }
   ],
   "source": [
    "emotion[p]"
   ]
  },
  {
   "cell_type": "code",
   "execution_count": null,
   "metadata": {},
   "outputs": [],
   "source": []
  }
 ],
 "metadata": {
  "kernelspec": {
   "display_name": "Python 3",
   "language": "python",
   "name": "python3"
  },
  "language_info": {
   "codemirror_mode": {
    "name": "ipython",
    "version": 3
   },
   "file_extension": ".py",
   "mimetype": "text/x-python",
   "name": "python",
   "nbconvert_exporter": "python",
   "pygments_lexer": "ipython3",
   "version": "3.6.8"
  }
 },
 "nbformat": 4,
 "nbformat_minor": 2
}
